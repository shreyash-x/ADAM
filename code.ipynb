{
 "cells": [
  {
   "cell_type": "code",
   "execution_count": 2,
   "metadata": {},
   "outputs": [
    {
     "name": "stdout",
     "output_type": "stream",
     "text": [
      "2.0\n"
     ]
    }
   ],
   "source": [
    "import math\n",
    "\n",
    "alpha = 0.01\n",
    "beta_1 = 0.9\n",
    "beta_2 = 0.999\t\t\t\t\t\t#initialize the values of the parameters\n",
    "epsilon = 1e-8\n",
    "def func(x):\n",
    "\treturn x*x -4*x + 4\n",
    "def grad_func(x):\t\t\t\t\t#calculates the gradient\n",
    "\treturn 2*x - 4\n",
    "theta_0 = 0\t\t\t\t\t\t#initialize the vector\n",
    "m_t = 0 \n",
    "v_t = 0 \n",
    "t = 0\n",
    "\n",
    "while (1):\t\t\t\t\t#till it gets converged\n",
    "\tt+=1\n",
    "\tg_t = grad_func(theta_0)\t\t#computes the gradient of the stochastic function\n",
    "\tm_t = beta_1*m_t + (1-beta_1)*g_t\t#updates the moving averages of the gradient\n",
    "\tv_t = beta_2*v_t + (1-beta_2)*(g_t*g_t)\t#updates the moving averages of the squared gradient\n",
    "\tm_cap = m_t/(1-(beta_1**t))\t\t#calculates the bias-corrected estimates\n",
    "\tv_cap = v_t/(1-(beta_2**t))\t\t#calculates the bias-corrected estimates\n",
    "\ttheta_0_prev = theta_0\t\t\t\t\t\t\t\t\n",
    "\ttheta_0 = theta_0 - (alpha*m_cap)/(math.sqrt(v_cap)+epsilon)\t#updates the parameters\n",
    "\tif(theta_0 == theta_0_prev):\t\t#checks if it is converged or not\n",
    "\t\tbreak\n",
    "print(theta_0)"
   ]
  }
 ],
 "metadata": {
  "kernelspec": {
   "display_name": "Python 3.8.10 64-bit",
   "language": "python",
   "name": "python3"
  },
  "language_info": {
   "codemirror_mode": {
    "name": "ipython",
    "version": 3
   },
   "file_extension": ".py",
   "mimetype": "text/x-python",
   "name": "python",
   "nbconvert_exporter": "python",
   "pygments_lexer": "ipython3",
   "version": "3.8.10"
  },
  "orig_nbformat": 4,
  "vscode": {
   "interpreter": {
    "hash": "916dbcbb3f70747c44a77c7bcd40155683ae19c65e1c03b4aa3499c5328201f1"
   }
  }
 },
 "nbformat": 4,
 "nbformat_minor": 2
}
